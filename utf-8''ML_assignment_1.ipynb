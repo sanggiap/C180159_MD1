{
  "cells": [
    {
      "metadata": {
        "collapsed": true
      },
      "cell_type": "markdown",
      "source": "## 機械学習・データ分析(2019)　課題1\n\n### このnotebookには、いくつかの課題が記載されています。\n### 先頭から順番に、指示に従ってPython Codeをcellに記述してください。\n### codeを記述するcellは、各自適切に生成してください。\n\n### 課題提出方法\n#### 各自のGitHubに、学籍番号_MD1（たとえば、C180001_MD1)という名称のrepositoryを作成してください。\n#### このnotebookを各自のGitHubのリポジトリ（学籍番号_MD1)へコピーしてください。\n#### 各自のGitHubのリポジトリをoffice 365のメールアカウントを使用して、sugimura@ccg.ac.jpへ送信してください。メールの件名は、学籍番号_MD1としてください。\n##### 【重要】指定された方法で課題を提出することも課題に含まれています。"
    },
    {
      "metadata": {},
      "cell_type": "markdown",
      "source": "#### では、課題を始めます。\n\n##### 第1問：最初に、必要なモジュールを読み込みましょう。\n\n読み込むモジュールは、\n\n+ numpy\n+ pandas\n+ matplotlib.pyplot\n\nです。\n\nさらに、このnotebookの中にグラフを表示できるようにするための命令も記述しましょう。\n"
    },
    {
      "metadata": {
        "trusted": true
      },
      "cell_type": "code",
      "source": "import numpy as np\n\nx = np.arange(10)\n\nprint(x)\n",
      "execution_count": 5,
      "outputs": [
        {
          "output_type": "stream",
          "text": "[0 1 2 3 4 5 6 7 8 9]\n",
          "name": "stdout"
        }
      ]
    },
    {
      "metadata": {
        "trusted": true
      },
      "cell_type": "code",
      "source": "import pandas as pd\n\ndf_sample =\\\npd.DataFrame([[\"day1\",\"day2\",\"day1\",\"day2\",\"day1\",\"day2\"],\n              [\"A\",\"B\",\"A\",\"B\",\"C\",\"C\"],\n              [100,150,200,150,100,50],\n              [120,160,100,180,110,80]] ).T  #とりあえず適当なデータを作ります\n\ndf_sample.columns = [\"day_no\",\"class\",\"score1\",\"score2\"]  #カラム名を付ける\ndf_sample.index   = [11,12,13,14,15,16]  #インデックス名を付ける\n\ndf_sample.columns = [\"day_no\",\"class\",\"point1\",\"point2\"]   # カラム名を上書き\ndf_sample.index   = [11,12,13,14,15,16]   # インデックス名を上書きする\n\n# head / tail\ndf_sample.head(10) #先頭10行を確認\ndf_sample.tail(10) #先頭10行を確認",
      "execution_count": 22,
      "outputs": [
        {
          "output_type": "execute_result",
          "execution_count": 22,
          "data": {
            "text/html": "<div>\n<style scoped>\n    .dataframe tbody tr th:only-of-type {\n        vertical-align: middle;\n    }\n\n    .dataframe tbody tr th {\n        vertical-align: top;\n    }\n\n    .dataframe thead th {\n        text-align: right;\n    }\n</style>\n<table border=\"1\" class=\"dataframe\">\n  <thead>\n    <tr style=\"text-align: right;\">\n      <th></th>\n      <th>day_no</th>\n      <th>class</th>\n      <th>point1</th>\n      <th>point2</th>\n    </tr>\n  </thead>\n  <tbody>\n    <tr>\n      <th>11</th>\n      <td>day1</td>\n      <td>A</td>\n      <td>100</td>\n      <td>120</td>\n    </tr>\n    <tr>\n      <th>12</th>\n      <td>day2</td>\n      <td>B</td>\n      <td>150</td>\n      <td>160</td>\n    </tr>\n    <tr>\n      <th>13</th>\n      <td>day1</td>\n      <td>A</td>\n      <td>200</td>\n      <td>100</td>\n    </tr>\n    <tr>\n      <th>14</th>\n      <td>day2</td>\n      <td>B</td>\n      <td>150</td>\n      <td>180</td>\n    </tr>\n    <tr>\n      <th>15</th>\n      <td>day1</td>\n      <td>C</td>\n      <td>100</td>\n      <td>110</td>\n    </tr>\n    <tr>\n      <th>16</th>\n      <td>day2</td>\n      <td>C</td>\n      <td>50</td>\n      <td>80</td>\n    </tr>\n  </tbody>\n</table>\n</div>",
            "text/plain": "   day_no class point1 point2\n11   day1     A    100    120\n12   day2     B    150    160\n13   day1     A    200    100\n14   day2     B    150    180\n15   day1     C    100    110\n16   day2     C     50     80"
          },
          "metadata": {}
        }
      ]
    },
    {
      "metadata": {
        "trusted": true
      },
      "cell_type": "code",
      "source": "import matplotlib.pyplot as plt\nimport numpy as np\n\n# データ生成\nx = np.linspace(0, 10, 100)\ny = x + np.random.randn(100) \n\n# プロット\nplt.plot(x, y, label=\"test\")\n\n# 凡例の表示\nplt.legend()\n\n# プロット表示(設定の反映)\nplt.show()\n",
      "execution_count": 26,
      "outputs": [
        {
          "output_type": "display_data",
          "data": {
            "image/png": "[encoded data removed]",
            "text/plain": "<Figure size 432x288 with 1 Axes>"
          },
          "metadata": {
            "needs_background": "light"
          }
        }
      ]
    },
    {
      "metadata": {},
      "cell_type": "markdown",
      "source": "##### 第2問：　学生名簿CSVファイル ICT2019.csvをデータフレーム型のデータdf_ict1に読み込んでください。\n\n##### ただし、ICT2019.csvには、indexとして用いることができるIDというcolumnが存在していますが、\n##### 新たにindexが付加されるように読み込んでください。\n"
    },
    {
      "metadata": {
        "trusted": true
      },
      "cell_type": "code",
      "source": "import pandas as pd\ndf = pd.read_csv('ICT2019 .csv')\ndf_ict1[['ID','氏名']]",
      "execution_count": 46,
      "outputs": [
        {
          "output_type": "execute_result",
          "execution_count": 46,
          "data": {
            "text/html": "<div>\n<style scoped>\n    .dataframe tbody tr th:only-of-type {\n        vertical-align: middle;\n    }\n\n    .dataframe tbody tr th {\n        vertical-align: top;\n    }\n\n    .dataframe thead th {\n        text-align: right;\n    }\n</style>\n<table border=\"1\" class=\"dataframe\">\n  <thead>\n    <tr style=\"text-align: right;\">\n      <th></th>\n      <th>ID</th>\n      <th>氏名</th>\n    </tr>\n  </thead>\n  <tbody>\n    <tr>\n      <th>0</th>\n      <td>1</td>\n      <td>髙見澤　弘和</td>\n    </tr>\n    <tr>\n      <th>1</th>\n      <td>2</td>\n      <td>弘中　哲哉</td>\n    </tr>\n    <tr>\n      <th>2</th>\n      <td>3</td>\n      <td>NGUYEN THE ANH</td>\n    </tr>\n    <tr>\n      <th>3</th>\n      <td>4</td>\n      <td>PHAM THI ANH</td>\n    </tr>\n    <tr>\n      <th>4</th>\n      <td>5</td>\n      <td>CHAUDHARI DILLIRAJ</td>\n    </tr>\n  </tbody>\n</table>\n</div>",
            "text/plain": "   ID                  氏名\n0   1              髙見澤　弘和\n1   2               弘中　哲哉\n2   3      NGUYEN THE ANH\n3   4        PHAM THI ANH\n4   5  CHAUDHARI DILLIRAJ"
          },
          "metadata": {}
        }
      ]
    },
    {
      "metadata": {},
      "cell_type": "markdown",
      "source": "##### 第3問：学生名簿の学生データをID（学籍番号）の昇順に並べ替えて表示してください。並べ替えたデータを保存する必要はありません。\n##### ここで、学籍番号の昇順とは、C180000<C180001<C180002<・・・＜C180999<C190000<C190001<・・・<C190999となるような順序のことです。\n\n##### pandasモジュールには、データフレームを値に基づいて並び替えるためのメソッドsort_values()があります。\n##### sort_values()メソッドを使ってください。sort_values()メソッドは、ソートに利用するcolumnを引数としてもちます。\n##### たとえば、IDという名称のcolumnを利用するならば、引数には、by='ID' を設定します。\n"
    },
    {
      "metadata": {
        "trusted": true
      },
      "cell_type": "code",
      "source": "\ndf_ict1.sort_values(by = 'ID')\n",
      "execution_count": 45,
      "outputs": [
        {
          "output_type": "execute_result",
          "execution_count": 45,
          "data": {
            "text/html": "<div>\n<style scoped>\n    .dataframe tbody tr th:only-of-type {\n        vertical-align: middle;\n    }\n\n    .dataframe tbody tr th {\n        vertical-align: top;\n    }\n\n    .dataframe thead th {\n        text-align: right;\n    }\n</style>\n<table border=\"1\" class=\"dataframe\">\n  <thead>\n    <tr style=\"text-align: right;\">\n      <th></th>\n      <th>ID</th>\n      <th>学籍番号</th>\n      <th>英称学科</th>\n      <th>CLASS</th>\n      <th>氏名</th>\n      <th>score</th>\n    </tr>\n  </thead>\n  <tbody>\n    <tr>\n      <th>0</th>\n      <td>1</td>\n      <td>C180002</td>\n      <td>IW</td>\n      <td>2S</td>\n      <td>髙見澤　弘和</td>\n      <td>1</td>\n    </tr>\n    <tr>\n      <th>1</th>\n      <td>2</td>\n      <td>C180005</td>\n      <td>IW</td>\n      <td>2S</td>\n      <td>弘中　哲哉</td>\n      <td>2</td>\n    </tr>\n    <tr>\n      <th>2</th>\n      <td>3</td>\n      <td>C190314</td>\n      <td>IM</td>\n      <td>3M</td>\n      <td>NGUYEN THE ANH</td>\n      <td>3</td>\n    </tr>\n    <tr>\n      <th>3</th>\n      <td>4</td>\n      <td>C190342</td>\n      <td>IM</td>\n      <td>3M</td>\n      <td>PHAM THI ANH</td>\n      <td>4</td>\n    </tr>\n    <tr>\n      <th>4</th>\n      <td>5</td>\n      <td>C190348</td>\n      <td>IM</td>\n      <td>3M</td>\n      <td>CHAUDHARI DILLIRAJ</td>\n      <td>5</td>\n    </tr>\n  </tbody>\n</table>\n</div>",
            "text/plain": "   ID     学籍番号 英称学科 CLASS                  氏名  score\n0   1  C180002   IW    2S              髙見澤　弘和      1\n1   2  C180005   IW    2S               弘中　哲哉      2\n2   3  C190314   IM    3M      NGUYEN THE ANH      3\n3   4  C190342   IM    3M        PHAM THI ANH      4\n4   5  C190348   IM    3M  CHAUDHARI DILLIRAJ      5"
          },
          "metadata": {}
        }
      ]
    },
    {
      "metadata": {},
      "cell_type": "markdown",
      "source": "##### 第4問：データフレーム型データdf_ict1に関して、classごとの学生数をカウントしてください。\n##### 解答は、\n##### 2S: 2名\n##### 4M: 25名\n##### 3M: 23名\n##### のように出力してください。\n\n##### ただし、df_ict1の列(column)CLASSの値は、たとえば、df_ict1.loc[:, 'CLASS']などによって取得できる。\n##### df_ict1.loc[:, 'CLASS']がdf_ict1からどんなデータを取得できるかは、各自確かめてください。\n\n\n\n"
    },
    {
      "metadata": {
        "trusted": true
      },
      "cell_type": "code",
      "source": "print(df_ict1.loc[:, ('CLASS')])",
      "execution_count": 47,
      "outputs": [
        {
          "output_type": "stream",
          "text": "0    2S\n1    2S\n2    3M\n3    3M\n4    3M\nName: CLASS, dtype: object\n",
          "name": "stdout"
        }
      ]
    },
    {
      "metadata": {},
      "cell_type": "markdown",
      "source": "##### 第5問：第4問と同様に、classごとの学生数をカウントしてください。\n##### ただし、ここでは、Pythonのメソッドsum()を利用してみよう。\n##### sum()は、リストの全ての要素の合計を求めます。\n##### リストの要素がbool型であるとき、sum()は、値がTrueである要素の個数を求めることになります。\n##### なお、sum()関数には、numpy.sum()というnumpyモジュールのsum()もあります。"
    },
    {
      "metadata": {
        "trusted": true
      },
      "cell_type": "code",
      "source": "s_2s = 0\ns_4m = 0\ns_3m = 0\n\nfor name in df_ict1['CLASS']:\n    if name == '2S':\n        s_2s += 1\n    elif name == '4M':\n        s_4m += 1\n    elif name == '3M':\n        s_3m += 1\nprint('2S:', s_2s)\nprint('4M:', s_4m)\nprint('3M:', s_3m)\n            ",
      "execution_count": 49,
      "outputs": [
        {
          "output_type": "stream",
          "text": "2S: 2\n4M: 0\n3M: 3\n",
          "name": "stdout"
        }
      ]
    },
    {
      "metadata": {
        "trusted": true
      },
      "cell_type": "markdown",
      "source": "##### 第6問：第4問で求めた各クラスの学生数を円グラフで表示してください。"
    },
    {
      "metadata": {
        "trusted": true
      },
      "cell_type": "code",
      "source": "s_2s1 = df_ict1['CLASS'] == '2S'\ns_4m1 = df_ict1['CLASS'] == '4M'\ns_3m1 = df_ict1['CLASS'] == '3M'\nprint('2S:', s_2s1.sum ())\nprint('2S:', s_4m1.sum ())\nprint('2S:', s_3m1.sum ())",
      "execution_count": 54,
      "outputs": [
        {
          "output_type": "stream",
          "text": "2S: 2\n2S: 0\n2S: 3\n",
          "name": "stdout"
        }
      ]
    },
    {
      "metadata": {
        "trusted": true
      },
      "cell_type": "markdown",
      "source": "##### 第7問　リスト内包表記を使用して、2桁の奇数からなるリストを作成してください。"
    },
    {
      "metadata": {},
      "cell_type": "markdown",
      "source": "##### 第8問：Titanic号csvファイルtitanic.csvをデータフレーム型のデータdf_titanic1に読み込み、先頭の5行を表示させてください。\n##### 読み込む際に、新たなIDをデータに付加しnaiさい。"
    },
    {
      "metadata": {},
      "cell_type": "markdown",
      "source": "##### 第9問：pandasのmean関数を用いることなく、全体の平均年齢、生存者の平均年齢、死亡者の平均年齢を求めなさい。\n##### ただし、画面に表示する小数点以下の桁数は2桁としてください。\n\n##### （参考）DataFrame型データdf_titanic1の要素の値を取得する方法には、\n+ loc\n+ iloc\n+ at\n+ iat\n##### などがあります。\n##### locやilocは、行と列の範囲を指定して取得するため、取り出されたデータもDataFrame型になります。\n##### これに対して、atやiatは、指定した行と列に存在する1つの要素の値を取り出すことができます。\n##### また、locやatは、行と列のラベル名を指定しますが、ilocやiatは、行番号と列番号を指定します。"
    },
    {
      "metadata": {
        "trusted": true
      },
      "cell_type": "code",
      "source": "",
      "execution_count": null,
      "outputs": []
    },
    {
      "metadata": {},
      "cell_type": "markdown",
      "source": "#### 第10問：pandasのmean関数を用いて、全体の平均年齢、生存者の平均年齢、及び、死亡者の平均年齢を求めてください。\n#### それぞれの平均年齢を求めて表示するコードは、1行で記述することができるので、全部で3行のコードだけで解答することができます。\n\n##### DataFrame型データから特定の条件を満たす行を抽出する方法\n+ 比較演算子を用いて'Survived'が1である行を抽出する方法例　----　df_titanic1[df_titanic1['Survived'] == 1]\n+ query()メソッドを用いて'Survived'が1である行を抽出する方法例 ----- df_titanic1.query('Survived == 1')\n\n##### DataFtame型データの特定の列の平均を求める方法\n##### DataFrame型データdf_titanic1の列'Age'の平均を求めるには、df_titanic1['Age'].mean()　のように記述します。返り値は、この特定の列のデータ型となります。\n##### すべての列の平均を求めるには、df_titanic1.mean()　とします。このとき、返り値のデータ型は、Series型です。\n"
    },
    {
      "metadata": {
        "trusted": true
      },
      "cell_type": "code",
      "source": "",
      "execution_count": null,
      "outputs": []
    }
  ],
  "metadata": {
    "kernelspec": {
      "name": "python36",
      "display_name": "Python 3.6",
      "language": "python"
    },
    "language_info": {
      "mimetype": "text/x-python",
      "nbconvert_exporter": "python",
      "name": "python",
      "pygments_lexer": "ipython3",
      "version": "3.6.6",
      "file_extension": ".py",
      "codemirror_mode": {
        "version": 3,
        "name": "ipython"
      }
    }
  },
  "nbformat": 4,
  "nbformat_minor": 2
}